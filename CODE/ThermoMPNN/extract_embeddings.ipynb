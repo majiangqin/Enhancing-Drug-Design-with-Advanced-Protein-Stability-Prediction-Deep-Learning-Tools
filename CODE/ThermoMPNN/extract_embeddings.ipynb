{
 "cells": [
  {
   "cell_type": "code",
   "execution_count": 1,
   "metadata": {},
   "outputs": [],
   "source": [
    "import torch\n",
    "import numpy as np"
   ]
  },
  {
   "cell_type": "code",
   "execution_count": 8,
   "metadata": {},
   "outputs": [],
   "source": [
    "embeddings = torch.load(r'embeddings\\embeddings_test.pt')"
   ]
  },
  {
   "cell_type": "code",
   "execution_count": 9,
   "metadata": {},
   "outputs": [],
   "source": [
    "embeddings_np = embeddings.numpy()"
   ]
  },
  {
   "cell_type": "code",
   "execution_count": 10,
   "metadata": {},
   "outputs": [
    {
     "name": "stdout",
     "output_type": "stream",
     "text": [
      "Embeddings shape: (1, 259, 128)\n"
     ]
    }
   ],
   "source": [
    "print(\"Embeddings shape:\", embeddings_np.shape)"
   ]
  },
  {
   "cell_type": "code",
   "execution_count": 13,
   "metadata": {},
   "outputs": [
    {
     "name": "stdout",
     "output_type": "stream",
     "text": [
      "First few embeddings:\n",
      "[[[-0.26405048 -0.0085974  -0.05671874 ...  0.17247652  0.05919209\n",
      "    0.233807  ]\n",
      "  [-0.26405048 -0.0085974  -0.05671874 ...  0.17247652  0.05919209\n",
      "    0.233807  ]\n",
      "  [ 0.21300055  0.05954831 -0.14541693 ...  0.16729671 -0.19693314\n",
      "   -0.31444257]\n",
      "  ...\n",
      "  [ 0.10883114 -0.093624    0.47862795 ...  0.03113903  0.32523403\n",
      "    0.05027015]\n",
      "  [ 0.278156   -0.09742577  0.0399828  ...  0.11353184 -0.23503427\n",
      "   -0.12813097]\n",
      "  [ 0.01367613 -0.08060106  0.29445323 ... -0.19464073 -0.05240006\n",
      "   -0.00896531]]]\n"
     ]
    }
   ],
   "source": [
    "print(\"First few embeddings:\")\n",
    "print(embeddings_np[:5])"
   ]
  },
  {
   "cell_type": "code",
   "execution_count": null,
   "metadata": {},
   "outputs": [],
   "source": []
  }
 ],
 "metadata": {
  "kernelspec": {
   "display_name": "thermoMPNN",
   "language": "python",
   "name": "python3"
  },
  "language_info": {
   "codemirror_mode": {
    "name": "ipython",
    "version": 3
   },
   "file_extension": ".py",
   "mimetype": "text/x-python",
   "name": "python",
   "nbconvert_exporter": "python",
   "pygments_lexer": "ipython3",
   "version": "3.10.13"
  }
 },
 "nbformat": 4,
 "nbformat_minor": 2
}
