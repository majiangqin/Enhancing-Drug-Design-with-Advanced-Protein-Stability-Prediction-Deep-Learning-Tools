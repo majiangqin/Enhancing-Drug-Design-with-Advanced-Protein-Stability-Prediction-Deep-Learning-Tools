{
 "cells": [
  {
   "cell_type": "code",
   "execution_count": 2,
   "id": "2e1ca92e",
   "metadata": {},
   "outputs": [],
   "source": [
    "import pandas as pd\n",
    "import pickle \n",
    "from numpy import random\n"
   ]
  },
  {
   "cell_type": "code",
   "execution_count": 3,
   "id": "75fbba7b",
   "metadata": {},
   "outputs": [
    {
     "data": {
      "text/plain": [
       "(3438, 43)"
      ]
     },
     "execution_count": 3,
     "metadata": {},
     "output_type": "execute_result"
    }
   ],
   "source": [
    "f = '../data/fireprot/4_fireprotDB_bestpH.csv'\n",
    "\n",
    "df = pd.read_csv(f).dropna(subset=['ddG'])\n",
    "df.shape"
   ]
  },
  {
   "cell_type": "code",
   "execution_count": 16,
   "id": "ca10ccba",
   "metadata": {},
   "outputs": [],
   "source": [
    "# put seqs into FASTA for clustering\n",
    "\n",
    "from Bio import SeqIO\n",
    "from Bio.Seq import Seq\n",
    "\n",
    "records = {}\n",
    "for r in df.to_records():\n",
    "    name = r.pdb_id_corrected\n",
    "    if name not in records:\n",
    "        records[name] = SeqIO.SeqRecord(Seq(r.pdb_sequence.replace('X', '-')), id=name, name=name, description='')\n",
    "    \n",
    "with open('../data/fireprot/fireprot_proteins.fasta', 'w') as outFile:\n",
    "    SeqIO.write(list(records.values()), outFile, 'fasta')\n",
    "\n",
    "# !mmseqs2 easy-cluster ../data/fireprot/fireprot_proteins.fasta ../data/fireprot/fireprot_proteins ../data/fireprot/tmp --min-seq-id 0.25"
   ]
  },
  {
   "cell_type": "code",
   "execution_count": 4,
   "id": "861ac847",
   "metadata": {},
   "outputs": [],
   "source": [
    "# TSV has 2 columns: cluster representative and cluster member\n",
    "\n",
    "clust = pd.read_csv('../data/fireprot/fireprot_proteins_cluster.tsv', sep='\\t', header=None, names=['cluster', 'member'])\n",
    "\n",
    "vcs = clust.cluster.value_counts()\n",
    "cs = clust.cluster.unique()\n",
    "# print(len(cs), vcs)"
   ]
  },
  {
   "cell_type": "code",
   "execution_count": 13,
   "id": "d7c9f7cf",
   "metadata": {},
   "outputs": [],
   "source": [
    "# load tsv with homologue overlap between MegaScale and FireProt\n",
    "\n",
    "overlap = pd.read_csv('../data/mmseqs_searches/mega_vs_fireprot.m8', sep='\\t', header=None)\n",
    "mega_overlap = overlap.iloc[:, 0].values\n",
    "fp_overlap = overlap.iloc[:, 1].values\n",
    "# print(mega_overlap, '\\n\\n', fp_overlap)"
   ]
  },
  {
   "cell_type": "code",
   "execution_count": 18,
   "id": "12642558",
   "metadata": {},
   "outputs": [
    {
     "name": "stdout",
     "output_type": "stream",
     "text": [
      "dict_keys(['train', 'val', 'test', 'homologue-free'])\n",
      "{'train': ['1PGA', '2OCJ', '1ISP', '1LZ1', '4LYZ', '1CYC', '5PTI', '1EY0', '1CEY', '1BVC', '1C2R', '2RN2', '1WQ5', '1POH', '1IGV', '1ZG4', '1CSP', '1MJC', '2LZM', '1BTA', '1HRC', '1QLP', '3MBP', '1AG2', '2ABD', '451C', '1TTG', '1TEN', '2HPR', '1EL1', '1SUP', '1TPK', '1C5G', '1A5E', '1KFW', '1HME', '2A36', '1YU5', '1H7M', '1UZC', '1HK0', '1IO2', '1MSI', '4BLM', '2Q98', '1QJP', '1THQ', '1AQH', '1BCX', '1SSO', '1W3D', '1HGU', '2CHF', '1FMK', '1APS', '1KCQ', '2DRI'], 'val': array(['1OIA', '1IET', '1CYO', '1B5M', '1IFC', '1HMS', '1GV2', '1ONC',\n",
      "       '1AEP', '1A2P', '2SIL', '3PGK', '2NVH', '1CHK', '5DFR'],\n",
      "      dtype=object), 'test': array(['1QGV', '1IMQ', '1BRF', '1A23', '1KF2', '1HZ6', '1G4I', '1BNL',\n",
      "       '1RRO', '1RTP', '1ANK', '1AKY', '2ADA', '1JNX', '1MGR', '1QND',\n",
      "       '1E0W', '1AYE', '1C52', '1RBP', '1FTG', '2TRX', '1RN1', '2AFG',\n",
      "       '1KE4', '1FRD', '1FXA', '1CAH'], dtype=object), 'homologue-free': array(['5DFR', '2OCJ', '1ISP', '2NVH', '1A2P', '1LZ1', '4LYZ', '1CYC',\n",
      "       '5PTI', '1EY0', '1CEY', '1BVC', '1C2R', '2RN2', '1G4I', '1WQ5',\n",
      "       '1RN1', '1POH', '1IGV', '3PGK', '1ZG4', '1CYO', '2TRX', '2LZM',\n",
      "       '1A23', '1BTA', '1CAH', '1HRC', '1QLP', '1AG2', '2ABD', '1GV2',\n",
      "       '1FTG', '451C', '1KE4', '1AKY', '1HMS', '2AFG', '1TTG', '1TEN',\n",
      "       '1ONC', '2HPR', '1OIA', '1KF2', '1MGR', '2SIL', '1EL1', '1ANK',\n",
      "       '1SUP', '1TPK', '1C5G', '1CHK', '1A5E', '1QGV', '1KFW', '1RTP',\n",
      "       '2ADA', '1IMQ', '1HME', '1H7M', '1AEP', '1HK0', '1IFC', '1IO2',\n",
      "       '1BNL', '4BLM', '2Q98', '1QJP', '1THQ', '1AQH', '1B5M', '1BCX',\n",
      "       '1BRF', '1RRO', '1HGU', '1AYE', '1FXA', '1HZ6', '2CHF', '1APS',\n",
      "       '1FRD', '1IET', '1KCQ', '1QND', '2DRI', '1C52', '1E0W', '1JNX',\n",
      "       '1RBP'], dtype=object)}\n"
     ]
    }
   ],
   "source": [
    "# generate homologue-free split\n",
    "\n",
    "tmp = df\n",
    "\n",
    "for m in mega_overlap:\n",
    "    tmp = tmp[tmp['pdb_id_corrected'] != m.strip('.pdb')]\n",
    "    \n",
    "for f in fp_overlap:\n",
    "    tmp = tmp[tmp['pdb_id_corrected'] != f.strip('.pdb')]\n",
    "\n",
    "    \n",
    "# splits = {'train': train_names, 'val': val_names, 'test': test_names}\n",
    "\n",
    "with open('../data/fireprot/fireprot_splits.pkl', 'rb') as f:\n",
    "    splits = pickle.load(f)\n",
    "splits['homologue-free'] = tmp.pdb_id_corrected.unique()\n",
    "\n",
    "print(splits.keys())\n",
    "\n",
    "\n",
    "print(splits)\n",
    "\n",
    "with open('../data/fireprot/fireprot_splits.pkl', 'wb') as f:\n",
    "    pickle.dump(splits, f)\n",
    "\n",
    "df['pdb_id_corrected'].isin(splits['homologue-free']).sum()\n",
    "\n",
    "tmp.to_csv('../data/fireprot/fireprot_homologue_free.csv')"
   ]
  },
  {
   "cell_type": "code",
   "execution_count": 6,
   "id": "6c447557",
   "metadata": {},
   "outputs": [
    {
     "name": "stdout",
     "output_type": "stream",
     "text": [
      "Test Dataset Size:\t (350, 43)\n",
      "==================================================\n",
      "Validation Dataset Size:\t (402, 43)\n",
      "==================================================\n"
     ]
    },
    {
     "name": "stderr",
     "output_type": "stream",
     "text": [
      "/var/folders/wd/srnwjfv172gg471lbzkr4j040000gp/T/ipykernel_13131/699440861.py:37: FutureWarning: In a future version, object-dtype columns with all-bool values will not be included in reductions with bool_only=True. Explicitly cast to bool dtype instead.\n",
      "  test_df = pd.concat([test_df, target_rows])\n",
      "/var/folders/wd/srnwjfv172gg471lbzkr4j040000gp/T/ipykernel_13131/699440861.py:37: FutureWarning: In a future version, object-dtype columns with all-bool values will not be included in reductions with bool_only=True. Explicitly cast to bool dtype instead.\n",
      "  test_df = pd.concat([test_df, target_rows])\n",
      "/var/folders/wd/srnwjfv172gg471lbzkr4j040000gp/T/ipykernel_13131/699440861.py:37: FutureWarning: In a future version, object-dtype columns with all-bool values will not be included in reductions with bool_only=True. Explicitly cast to bool dtype instead.\n",
      "  test_df = pd.concat([test_df, target_rows])\n",
      "/var/folders/wd/srnwjfv172gg471lbzkr4j040000gp/T/ipykernel_13131/699440861.py:37: FutureWarning: In a future version, object-dtype columns with all-bool values will not be included in reductions with bool_only=True. Explicitly cast to bool dtype instead.\n",
      "  test_df = pd.concat([test_df, target_rows])\n",
      "/var/folders/wd/srnwjfv172gg471lbzkr4j040000gp/T/ipykernel_13131/699440861.py:37: FutureWarning: In a future version, object-dtype columns with all-bool values will not be included in reductions with bool_only=True. Explicitly cast to bool dtype instead.\n",
      "  test_df = pd.concat([test_df, target_rows])\n",
      "/var/folders/wd/srnwjfv172gg471lbzkr4j040000gp/T/ipykernel_13131/699440861.py:37: FutureWarning: In a future version, object-dtype columns with all-bool values will not be included in reductions with bool_only=True. Explicitly cast to bool dtype instead.\n",
      "  test_df = pd.concat([test_df, target_rows])\n",
      "/var/folders/wd/srnwjfv172gg471lbzkr4j040000gp/T/ipykernel_13131/699440861.py:37: FutureWarning: In a future version, object-dtype columns with all-bool values will not be included in reductions with bool_only=True. Explicitly cast to bool dtype instead.\n",
      "  test_df = pd.concat([test_df, target_rows])\n",
      "/var/folders/wd/srnwjfv172gg471lbzkr4j040000gp/T/ipykernel_13131/699440861.py:37: FutureWarning: In a future version, object-dtype columns with all-bool values will not be included in reductions with bool_only=True. Explicitly cast to bool dtype instead.\n",
      "  test_df = pd.concat([test_df, target_rows])\n",
      "/var/folders/wd/srnwjfv172gg471lbzkr4j040000gp/T/ipykernel_13131/699440861.py:37: FutureWarning: In a future version, object-dtype columns with all-bool values will not be included in reductions with bool_only=True. Explicitly cast to bool dtype instead.\n",
      "  test_df = pd.concat([test_df, target_rows])\n",
      "/var/folders/wd/srnwjfv172gg471lbzkr4j040000gp/T/ipykernel_13131/699440861.py:37: FutureWarning: In a future version, object-dtype columns with all-bool values will not be included in reductions with bool_only=True. Explicitly cast to bool dtype instead.\n",
      "  test_df = pd.concat([test_df, target_rows])\n",
      "/var/folders/wd/srnwjfv172gg471lbzkr4j040000gp/T/ipykernel_13131/699440861.py:37: FutureWarning: In a future version, object-dtype columns with all-bool values will not be included in reductions with bool_only=True. Explicitly cast to bool dtype instead.\n",
      "  test_df = pd.concat([test_df, target_rows])\n",
      "/var/folders/wd/srnwjfv172gg471lbzkr4j040000gp/T/ipykernel_13131/699440861.py:37: FutureWarning: In a future version, object-dtype columns with all-bool values will not be included in reductions with bool_only=True. Explicitly cast to bool dtype instead.\n",
      "  test_df = pd.concat([test_df, target_rows])\n",
      "/var/folders/wd/srnwjfv172gg471lbzkr4j040000gp/T/ipykernel_13131/699440861.py:37: FutureWarning: In a future version, object-dtype columns with all-bool values will not be included in reductions with bool_only=True. Explicitly cast to bool dtype instead.\n",
      "  test_df = pd.concat([test_df, target_rows])\n",
      "/var/folders/wd/srnwjfv172gg471lbzkr4j040000gp/T/ipykernel_13131/699440861.py:37: FutureWarning: In a future version, object-dtype columns with all-bool values will not be included in reductions with bool_only=True. Explicitly cast to bool dtype instead.\n",
      "  test_df = pd.concat([test_df, target_rows])\n",
      "/var/folders/wd/srnwjfv172gg471lbzkr4j040000gp/T/ipykernel_13131/699440861.py:37: FutureWarning: In a future version, object-dtype columns with all-bool values will not be included in reductions with bool_only=True. Explicitly cast to bool dtype instead.\n",
      "  test_df = pd.concat([test_df, target_rows])\n",
      "/var/folders/wd/srnwjfv172gg471lbzkr4j040000gp/T/ipykernel_13131/699440861.py:37: FutureWarning: In a future version, object-dtype columns with all-bool values will not be included in reductions with bool_only=True. Explicitly cast to bool dtype instead.\n",
      "  test_df = pd.concat([test_df, target_rows])\n",
      "/var/folders/wd/srnwjfv172gg471lbzkr4j040000gp/T/ipykernel_13131/699440861.py:37: FutureWarning: In a future version, object-dtype columns with all-bool values will not be included in reductions with bool_only=True. Explicitly cast to bool dtype instead.\n",
      "  test_df = pd.concat([test_df, target_rows])\n",
      "/var/folders/wd/srnwjfv172gg471lbzkr4j040000gp/T/ipykernel_13131/699440861.py:37: FutureWarning: In a future version, object-dtype columns with all-bool values will not be included in reductions with bool_only=True. Explicitly cast to bool dtype instead.\n",
      "  test_df = pd.concat([test_df, target_rows])\n",
      "/var/folders/wd/srnwjfv172gg471lbzkr4j040000gp/T/ipykernel_13131/699440861.py:37: FutureWarning: In a future version, object-dtype columns with all-bool values will not be included in reductions with bool_only=True. Explicitly cast to bool dtype instead.\n",
      "  test_df = pd.concat([test_df, target_rows])\n",
      "/var/folders/wd/srnwjfv172gg471lbzkr4j040000gp/T/ipykernel_13131/699440861.py:37: FutureWarning: In a future version, object-dtype columns with all-bool values will not be included in reductions with bool_only=True. Explicitly cast to bool dtype instead.\n",
      "  test_df = pd.concat([test_df, target_rows])\n",
      "/var/folders/wd/srnwjfv172gg471lbzkr4j040000gp/T/ipykernel_13131/699440861.py:37: FutureWarning: In a future version, object-dtype columns with all-bool values will not be included in reductions with bool_only=True. Explicitly cast to bool dtype instead.\n",
      "  test_df = pd.concat([test_df, target_rows])\n",
      "/var/folders/wd/srnwjfv172gg471lbzkr4j040000gp/T/ipykernel_13131/699440861.py:37: FutureWarning: In a future version, object-dtype columns with all-bool values will not be included in reductions with bool_only=True. Explicitly cast to bool dtype instead.\n",
      "  test_df = pd.concat([test_df, target_rows])\n",
      "/var/folders/wd/srnwjfv172gg471lbzkr4j040000gp/T/ipykernel_13131/699440861.py:37: FutureWarning: In a future version, object-dtype columns with all-bool values will not be included in reductions with bool_only=True. Explicitly cast to bool dtype instead.\n",
      "  test_df = pd.concat([test_df, target_rows])\n",
      "/var/folders/wd/srnwjfv172gg471lbzkr4j040000gp/T/ipykernel_13131/699440861.py:37: FutureWarning: In a future version, object-dtype columns with all-bool values will not be included in reductions with bool_only=True. Explicitly cast to bool dtype instead.\n",
      "  test_df = pd.concat([test_df, target_rows])\n",
      "/var/folders/wd/srnwjfv172gg471lbzkr4j040000gp/T/ipykernel_13131/699440861.py:37: FutureWarning: In a future version, object-dtype columns with all-bool values will not be included in reductions with bool_only=True. Explicitly cast to bool dtype instead.\n",
      "  test_df = pd.concat([test_df, target_rows])\n",
      "/var/folders/wd/srnwjfv172gg471lbzkr4j040000gp/T/ipykernel_13131/699440861.py:37: FutureWarning: In a future version, object-dtype columns with all-bool values will not be included in reductions with bool_only=True. Explicitly cast to bool dtype instead.\n",
      "  test_df = pd.concat([test_df, target_rows])\n",
      "/var/folders/wd/srnwjfv172gg471lbzkr4j040000gp/T/ipykernel_13131/699440861.py:37: FutureWarning: In a future version, object-dtype columns with all-bool values will not be included in reductions with bool_only=True. Explicitly cast to bool dtype instead.\n",
      "  test_df = pd.concat([test_df, target_rows])\n",
      "/var/folders/wd/srnwjfv172gg471lbzkr4j040000gp/T/ipykernel_13131/699440861.py:72: FutureWarning: In a future version, object-dtype columns with all-bool values will not be included in reductions with bool_only=True. Explicitly cast to bool dtype instead.\n",
      "  val_df = pd.concat([val_df, target_rows])\n",
      "/var/folders/wd/srnwjfv172gg471lbzkr4j040000gp/T/ipykernel_13131/699440861.py:72: FutureWarning: In a future version, object-dtype columns with all-bool values will not be included in reductions with bool_only=True. Explicitly cast to bool dtype instead.\n",
      "  val_df = pd.concat([val_df, target_rows])\n",
      "/var/folders/wd/srnwjfv172gg471lbzkr4j040000gp/T/ipykernel_13131/699440861.py:72: FutureWarning: In a future version, object-dtype columns with all-bool values will not be included in reductions with bool_only=True. Explicitly cast to bool dtype instead.\n",
      "  val_df = pd.concat([val_df, target_rows])\n",
      "/var/folders/wd/srnwjfv172gg471lbzkr4j040000gp/T/ipykernel_13131/699440861.py:72: FutureWarning: In a future version, object-dtype columns with all-bool values will not be included in reductions with bool_only=True. Explicitly cast to bool dtype instead.\n",
      "  val_df = pd.concat([val_df, target_rows])\n",
      "/var/folders/wd/srnwjfv172gg471lbzkr4j040000gp/T/ipykernel_13131/699440861.py:72: FutureWarning: In a future version, object-dtype columns with all-bool values will not be included in reductions with bool_only=True. Explicitly cast to bool dtype instead.\n",
      "  val_df = pd.concat([val_df, target_rows])\n",
      "/var/folders/wd/srnwjfv172gg471lbzkr4j040000gp/T/ipykernel_13131/699440861.py:72: FutureWarning: In a future version, object-dtype columns with all-bool values will not be included in reductions with bool_only=True. Explicitly cast to bool dtype instead.\n",
      "  val_df = pd.concat([val_df, target_rows])\n",
      "/var/folders/wd/srnwjfv172gg471lbzkr4j040000gp/T/ipykernel_13131/699440861.py:72: FutureWarning: In a future version, object-dtype columns with all-bool values will not be included in reductions with bool_only=True. Explicitly cast to bool dtype instead.\n",
      "  val_df = pd.concat([val_df, target_rows])\n",
      "/var/folders/wd/srnwjfv172gg471lbzkr4j040000gp/T/ipykernel_13131/699440861.py:72: FutureWarning: In a future version, object-dtype columns with all-bool values will not be included in reductions with bool_only=True. Explicitly cast to bool dtype instead.\n",
      "  val_df = pd.concat([val_df, target_rows])\n",
      "/var/folders/wd/srnwjfv172gg471lbzkr4j040000gp/T/ipykernel_13131/699440861.py:72: FutureWarning: In a future version, object-dtype columns with all-bool values will not be included in reductions with bool_only=True. Explicitly cast to bool dtype instead.\n",
      "  val_df = pd.concat([val_df, target_rows])\n",
      "/var/folders/wd/srnwjfv172gg471lbzkr4j040000gp/T/ipykernel_13131/699440861.py:72: FutureWarning: In a future version, object-dtype columns with all-bool values will not be included in reductions with bool_only=True. Explicitly cast to bool dtype instead.\n",
      "  val_df = pd.concat([val_df, target_rows])\n",
      "/var/folders/wd/srnwjfv172gg471lbzkr4j040000gp/T/ipykernel_13131/699440861.py:72: FutureWarning: In a future version, object-dtype columns with all-bool values will not be included in reductions with bool_only=True. Explicitly cast to bool dtype instead.\n",
      "  val_df = pd.concat([val_df, target_rows])\n",
      "/var/folders/wd/srnwjfv172gg471lbzkr4j040000gp/T/ipykernel_13131/699440861.py:72: FutureWarning: In a future version, object-dtype columns with all-bool values will not be included in reductions with bool_only=True. Explicitly cast to bool dtype instead.\n",
      "  val_df = pd.concat([val_df, target_rows])\n",
      "/var/folders/wd/srnwjfv172gg471lbzkr4j040000gp/T/ipykernel_13131/699440861.py:72: FutureWarning: In a future version, object-dtype columns with all-bool values will not be included in reductions with bool_only=True. Explicitly cast to bool dtype instead.\n",
      "  val_df = pd.concat([val_df, target_rows])\n",
      "/var/folders/wd/srnwjfv172gg471lbzkr4j040000gp/T/ipykernel_13131/699440861.py:72: FutureWarning: In a future version, object-dtype columns with all-bool values will not be included in reductions with bool_only=True. Explicitly cast to bool dtype instead.\n",
      "  val_df = pd.concat([val_df, target_rows])\n"
     ]
    }
   ],
   "source": [
    "# generate test/val/train splits\n",
    "\n",
    "test_size, val_size, train_size = 0, 0, 0\n",
    "total_size = df.shape[0]\n",
    "\n",
    "test_df = pd.DataFrame(columns=df.columns)\n",
    "test_size = test_df.shape[0]\n",
    "\n",
    "random.seed(0)\n",
    "\n",
    "used = []\n",
    "# until size is met:\n",
    "while test_size < total_size * 0.10:\n",
    "    pick = random.randint(0, len(cs))\n",
    "    if pick not in used:\n",
    "        used.append(pick)\n",
    "        cluster_picked = cs[pick]\n",
    "    else:\n",
    "        continue\n",
    "    # pick a random cluster\n",
    "\n",
    "    # add all members of that cluster to train_df\n",
    "    cluster_all = clust[clust['cluster'] == cluster_picked]\n",
    "    \n",
    "    # TODO check if any cluster members are in restricted list (overlap w/FireProt)\n",
    "    for c in cluster_all.member:\n",
    "        if c in mega_overlap or c in fp_overlap:\n",
    "            break\n",
    "    \n",
    "    if c in mega_overlap or c in fp_overlap:  # skip adding rows if held in overlap\n",
    "        continue\n",
    "    \n",
    "    for c in cluster_all.member:\n",
    "        target_rows = df.loc[df['pdb_id_corrected'] == c, :]\n",
    "        if target_rows.shape[0] > 250:  # we don't want large proteins in the val/test set skewing performance estimates\n",
    "            continue\n",
    "        test_df = pd.concat([test_df, target_rows])\n",
    "        test_size = test_df.shape[0]\n",
    "\n",
    "print('Test Dataset Size:\\t', test_df.shape)\n",
    "print('=' * 50)\n",
    "    \n",
    "# same procedure for val set\n",
    "\n",
    "val_df = pd.DataFrame(columns=df.columns)\n",
    "val_size = val_df.shape[0]\n",
    "\n",
    "while val_size < total_size * 0.10:\n",
    "    pick = random.randint(0, len(cs))\n",
    "    if pick not in used:\n",
    "        used.append(pick)\n",
    "        cluster_picked = cs[pick]\n",
    "    else:\n",
    "        continue\n",
    "    # pick a random cluster\n",
    "\n",
    "    # add all members of that cluster to val_df\n",
    "    cluster_all = clust[clust['cluster'] == cluster_picked]\n",
    "    \n",
    "    # TODO check if any cluster members are in restricted list (overlap w/FireProt)\n",
    "    for c in cluster_all.member:\n",
    "        if c in mega_overlap or c in fp_overlap:\n",
    "            break\n",
    "    \n",
    "    if c in mega_overlap or c in fp_overlap:  # skip adding rows if held in overlap\n",
    "        continue\n",
    "    \n",
    "    for c in cluster_all.member:\n",
    "        target_rows = df.loc[df['pdb_id_corrected'] == c, :]\n",
    "        if target_rows.shape[0] > 500:  # we don't want large proteins in the val/test set skewing performance estimates\n",
    "            continue\n",
    "        val_df = pd.concat([val_df, target_rows])\n",
    "        val_size = val_df.shape[0]\n",
    "\n",
    "print('Validation Dataset Size:\\t', val_df.shape)\n",
    "print('=' * 50)"
   ]
  },
  {
   "cell_type": "code",
   "execution_count": 7,
   "id": "5c8bc7c3",
   "metadata": {},
   "outputs": [],
   "source": [
    "val_names, test_names = val_df.pdb_id_corrected.unique(), test_df.pdb_id_corrected.unique()\n",
    "all_names = df.pdb_id_corrected.unique()\n",
    "\n",
    "train_names = [a for a in all_names if a not in val_names and a not in test_names]\n",
    "train_df = df.loc[df['pdb_id_corrected'].isin(train_names), :]"
   ]
  },
  {
   "cell_type": "code",
   "execution_count": 8,
   "id": "57461d2b",
   "metadata": {},
   "outputs": [
    {
     "name": "stdout",
     "output_type": "stream",
     "text": [
      "(2686, 43) (402, 43) (350, 43) (3438, 43)\n",
      "57 15 28 (100,)\n"
     ]
    }
   ],
   "source": [
    "print(train_df.shape, val_df.shape, test_df.shape, df.shape)\n",
    "print(len(train_names), len(val_names), len(test_names), clust.member.unique().shape)"
   ]
  },
  {
   "cell_type": "code",
   "execution_count": 9,
   "id": "211450b7",
   "metadata": {},
   "outputs": [],
   "source": [
    "splits = {'train': train_names, 'val': val_names, 'test': test_names}\n",
    "\n",
    "with open('../data/fireprot/fireprot_splits.pkl', 'wb') as f:\n",
    "    pickle.dump(splits, f)"
   ]
  },
  {
   "cell_type": "code",
   "execution_count": 10,
   "id": "412b51c7",
   "metadata": {},
   "outputs": [],
   "source": [
    "train_df.to_csv('../data/fireprot/fireprot_train.csv')\n",
    "val_df.to_csv('../data/fireprot/fireprot_val.csv')\n",
    "test_df.to_csv('../data/fireprot/fireprot_test.csv')"
   ]
  },
  {
   "cell_type": "code",
   "execution_count": null,
   "id": "38879765",
   "metadata": {},
   "outputs": [],
   "source": []
  }
 ],
 "metadata": {
  "kernelspec": {
   "display_name": "Python 3 (ipykernel)",
   "language": "python",
   "name": "python3"
  },
  "language_info": {
   "codemirror_mode": {
    "name": "ipython",
    "version": 3
   },
   "file_extension": ".py",
   "mimetype": "text/x-python",
   "name": "python",
   "nbconvert_exporter": "python",
   "pygments_lexer": "ipython3",
   "version": "3.10.11"
  }
 },
 "nbformat": 4,
 "nbformat_minor": 5
}
